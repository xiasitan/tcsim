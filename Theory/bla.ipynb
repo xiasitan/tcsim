{
 "cells": [
  {
   "cell_type": "code",
   "execution_count": null,
   "metadata": {},
   "outputs": [],
   "source": []
  }
 ],
 "metadata": {
  "kernelspec": {
   "display_name": "tcsim-vg60nFMD-py3.9",
   "language": "python",
   "name": "python3"
  },
  "language_info": {
   "name": "python",
   "version": "3.9.7"
  },
  "orig_nbformat": 4,
  "vscode": {
   "interpreter": {
    "hash": "59cb12dd9ecbf80eb357d6f524219154e96c4ff157a1ca807434a2b41595d91f"
   }
  }
 },
 "nbformat": 4,
 "nbformat_minor": 2
}

{
 "cells": [
  {
   "cell_type": "code",
   "execution_count": 1,
   "metadata": {},
   "outputs": [],
   "source": [
    "from qutip import*\n",
    "from qutip.qip.operations import rx, ry, rz\n",
    "import numpy as np\n",
    "import matplotlib.pyplot as plt\n",
    "from scipy import optimize\n",
    "import random"
   ]
  },
  {
   "cell_type": "code",
   "execution_count": 49,
   "metadata": {},
   "outputs": [],
   "source": [
    "# define operator \n",
    "\n",
    "N = 40\n",
    "\n",
    "Ic = qeye(N)\n",
    "Iq = qeye(2)\n",
    "\n",
    "a = tensor(Iq, destroy(N))\n",
    "sx = tensor(sigmax(), Ic)\n",
    "sy = tensor(sigmay(), Ic)\n",
    "\n",
    "P = (1j*(a.dag()-a))/2\n",
    "X = (a.dag()+a)/2\n",
    "\n",
    "def U_ideal_operator(u_k):\n",
    "    Uk = (1j*u_k*P*sx).expm()\n",
    "    return Uk\n",
    "\n",
    "def V_ideal_operator(v_k):\n",
    "    Vk = (1j*v_k*X*sy).expm()\n",
    "    return Vk"
   ]
  },
  {
   "cell_type": "code",
   "execution_count": 50,
   "metadata": {},
   "outputs": [],
   "source": [
    "# used to plot wigner later\n",
    "def plotting_wigner(\n",
    "    state,\n",
    "    contour=False,\n",
    "    fig=None,\n",
    "    ax=None,\n",
    "    max_alpha=2,\n",
    "    cbar=False,\n",
    "    npts=51,\n",
    "    vmin = -1,\n",
    "    vmax = 1\n",
    "):\n",
    "    \n",
    "    xvec = np.linspace(-max_alpha, max_alpha, npts)\n",
    "    W = wigner(ptrace(state,1) ,xvec , xvec, g = 2 )\n",
    "    if fig is None:\n",
    "        fig = plt.figure(figsize=(6, 5))\n",
    "    if ax is None:\n",
    "        ax = fig.subplots()\n",
    "    if contour:\n",
    "        levels = np.linspace(-1.1, 1.1, 102)\n",
    "        im = ax.contourf(\n",
    "            xvec, xvec, W, cmap=\"seismic\", vmin=vmin, vmax=vmax, levels=levels,\n",
    "        )\n",
    "    else:\n",
    "        im = ax.pcolormesh(\n",
    "            xvec, xvec, W, cmap=\"seismic\", vmin=vmin, vmax=vmax\n",
    "        )\n",
    "    \n",
    "    ax.set_xlabel(r\"Re$(\\alpha)$\")\n",
    "    ax.set_ylabel(r\"Im$(\\alpha)$\")\n",
    "    ax.grid()\n",
    "    # ax.set_title(title)\n",
    "\n",
    "    fig.tight_layout()\n",
    "    if cbar:\n",
    "        fig.subplots_adjust(right=0.8, hspace=0.25, wspace=0.25)\n",
    "        # todo: ensure colorbar even with plot...\n",
    "        # todo: fix this colorbar\n",
    "\n",
    "        cbar_ax = fig.add_axes([0.85, 0.225, 0.025, 0.65])\n",
    "        ticks = np.linspace(-1, 1, 5)\n",
    "        fig.colorbar(im, cax=cbar_ax, ticks=ticks)\n",
    "        cbar_ax.set_title(r\"$\\frac{\\pi}{2} W(\\alpha)$\", pad=10)\n",
    "    ax.set_aspect(\"equal\", adjustable=\"box\")"
   ]
  },
  {
   "cell_type": "code",
   "execution_count": null,
   "metadata": {},
   "outputs": [],
   "source": [
    "# define cost function that is minimized and run optimize.minimize with a random intial guesses.\n",
    "# run the optimization many times and print the found uvs and the achieved squeezing in each quadrature.\n",
    "for i in range(3):\n",
    "    def varianceP(uvs):\n",
    "        u_1 = uvs[0]\n",
    "        v_1 = uvs[1]\n",
    "        u_2 = uvs[2]\n",
    "        v_2 = uvs[3]\n",
    "        u_3 = uvs[4]\n",
    "        v_3 = uvs[5]\n",
    "\n",
    "        psi1 = V_ideal_operator(v_1)*U_ideal_operator(u_1)*tensor(fock(2,0),fock(N,0))\n",
    "        psi2 = V_ideal_operator(v_2)*U_ideal_operator(u_2)*psi1\n",
    "        psi3 = V_ideal_operator(v_3)*U_ideal_operator(u_3)*psi2\n",
    "        #print(expect(P**2,psi3))\n",
    "        return expect(P**2,psi3)\n",
    "\n",
    "    # start with random values between 1 and -1\n",
    "    initial_guess = [random.randrange(-10, 10, 1)/10 for i in range(6)]\n",
    "\n",
    "    # i tried different methods, SLSQP seems to give the best results\n",
    "    result = optimize.minimize(varianceP, initial_guess, method= 'SLSQP' )\n",
    "    if result.success:\n",
    "        fitted_params = result.x\n",
    "        print(fitted_params)\n",
    "    else:\n",
    "        raise ValueError(result.message)\n",
    "    \n",
    "    \n",
    "    uvs = fitted_params\n",
    "    def squeezingStateTwoStep(uvs):\n",
    "        u_1 = uvs[0]\n",
    "        v_1 = uvs[1]\n",
    "        u_2 = uvs[2]\n",
    "        v_2 = uvs[3]\n",
    "        u_3 = uvs[4]\n",
    "        v_3 = uvs[5]\n",
    "\n",
    "        psi1 = V_ideal_operator(v_1)*U_ideal_operator(u_1)*tensor(fock(2,0),fock(N,0))\n",
    "        psi2 = V_ideal_operator(v_2)*U_ideal_operator(u_2)*psi1\n",
    "        psi3 = V_ideal_operator(v_3)*U_ideal_operator(u_3)*psi2\n",
    "    \n",
    "        return psi3\n",
    "\n",
    "    state = squeezingStateTwoStep(uvs)\n",
    "    dbp = -10*np.log10(expect(P**2,state)*4)\n",
    "    dbx = -10*np.log10(expect(X**2,state)*4)\n",
    "    print(f\"Squeezed in P by {np.round(dbp,3)} dB\")#\n",
    "    print(f\"Squeezed in X by {np.round(dbx,3)} dB\")#"
   ]
  },
  {
   "cell_type": "code",
   "execution_count": null,
   "metadata": {},
   "outputs": [],
   "source": [
    "## The best uvs we found for 3 steps of UV -> 7.1dB squeezing.\n",
    "best_uvs = [-0.84571552,  0.61335235,  2.63648988,  0.30560449, -0.91694799, -0.80353261]\n",
    "state = squeezingStateTwoStep(best_uvs)\n",
    "plotting_wigner(state)\n",
    "dbp = -10*np.log10(expect(P**2,state)*4)\n",
    "dbx = -10*np.log10(expect(X**2,state)*4)\n",
    "print(f\"Squeezed in P by {np.round(dbp,3)} dB\")#\n",
    "print(f\"Squeezed in X by {np.round(dbx,3)} dB\")#"
   ]
  },
  {
   "cell_type": "markdown",
   "metadata": {},
   "source": [
    "### Question: What are the best parameters you found and how did you find them?"
   ]
  },
  {
   "cell_type": "markdown",
   "metadata": {},
   "source": []
  }
 ],
 "metadata": {
  "kernelspec": {
   "display_name": "Python 3.9.7 ('tcsim-vg60nFMD-py3.9')",
   "language": "python",
   "name": "python3"
  },
  "language_info": {
   "codemirror_mode": {
    "name": "ipython",
    "version": 3
   },
   "file_extension": ".py",
   "mimetype": "text/x-python",
   "name": "python",
   "nbconvert_exporter": "python",
   "pygments_lexer": "ipython3",
   "version": "3.9.7"
  },
  "orig_nbformat": 4,
  "vscode": {
   "interpreter": {
    "hash": "59cb12dd9ecbf80eb357d6f524219154e96c4ff157a1ca807434a2b41595d91f"
   }
  }
 },
 "nbformat": 4,
 "nbformat_minor": 2
}

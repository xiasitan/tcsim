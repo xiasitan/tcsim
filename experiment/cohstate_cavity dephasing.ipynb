{
 "cells": [
  {
   "cell_type": "code",
   "execution_count": 81,
   "metadata": {},
   "outputs": [],
   "source": [
    "from qutip import*\n",
    "import numpy as np\n",
    "import matplotlib.pyplot as plt"
   ]
  },
  {
   "cell_type": "code",
   "execution_count": 82,
   "metadata": {},
   "outputs": [],
   "source": [
    "def plot_wigner(\n",
    "    state,\n",
    "    contour=False,\n",
    "    fig=None,\n",
    "    ax=None,\n",
    "    max_alpha=3,\n",
    "    cbar=False,\n",
    "    npts=51,\n",
    "    vmin = -1,\n",
    "    vmax = 1\n",
    "):\n",
    "    \n",
    "    xvec = np.linspace(-max_alpha, max_alpha, npts)\n",
    "    W = wigner(ptrace(state,1) ,xvec , xvec, g = 2 )\n",
    "    if fig is None:\n",
    "        fig = plt.figure(figsize=(6, 5))\n",
    "    if ax is None:\n",
    "        ax = fig.subplots()\n",
    "    if contour:\n",
    "        levels = np.linspace(-1.1, 1.1, 102)\n",
    "        im = ax.contourf(\n",
    "            xvec, xvec, W, cmap=\"seismic\", vmin=vmin, vmax=vmax, levels=levels,\n",
    "        )\n",
    "    else:\n",
    "        im = ax.pcolormesh(\n",
    "            xvec, xvec, W, cmap=\"seismic\", vmin=vmin, vmax=vmax\n",
    "        )\n",
    "    \n",
    "\n",
    "    ax.grid()\n",
    "    # ax.set_title(title)\n",
    "\n",
    "    fig.tight_layout()\n",
    "    if cbar:\n",
    "        fig.subplots_adjust(right=0.8, hspace=0.25, wspace=0.25)\n",
    "        # todo: ensure colorbar even with plot...\n",
    "        # todo: fix this colorbar\n",
    "\n",
    "        cbar_ax = fig.add_axes([0.85, 0.225, 0.025, 0.65])\n",
    "        ticks = np.linspace(-1, 1, 5)\n",
    "        fig.colorbar(im, cax=cbar_ax, ticks=ticks)\n",
    "    ax.set_aspect(\"equal\", adjustable=\"box\")\n",
    "    \n",
    "def char_func_grid(state, xvec):\n",
    "    \"\"\"Calculate the Characteristic function as a 2Dgrid (xvec, xvec) for a given state.\n",
    "\n",
    "    Args:\n",
    "        state (Qobject): State of which we want to calc the charfunc\n",
    "        xvec (_type_): array of displacements. The char func will be calculated for the grid (xvec, xvec)\n",
    "\n",
    "    Returns:\n",
    "        tuple(ndarray, ndarray): Re(char func), Im(char func)\n",
    "    \"\"\"\n",
    "    cfReal = np.empty((len(xvec),len(xvec)))\n",
    "    cfImag = np.empty((len(xvec),len(xvec)))\n",
    "    N = state.dims[0][1]\n",
    "\n",
    "    for i, alpha_x in enumerate(xvec):\n",
    "        for j, alpha_p in enumerate(xvec):\n",
    "            expect_value = qt.expect(qt.displace(N, alpha_x +1j*alpha_p),qt.ptrace(state,1))\n",
    "            cfReal[i,j] =  np.real(expect_value)\n",
    "            cfImag[i,j] =  np.imag(expect_value)\n",
    "\n",
    "    return cfReal,cfImag   \n",
    "\n",
    "\n",
    "def plot_char(\n",
    "    state,\n",
    "    max_alpha=3,\n",
    "    npts=50,\n",
    "    real = True,\n",
    "    fig=None,\n",
    "    ax=None,\n",
    "    vmin = -1,\n",
    "    vmax = 1,\n",
    "    cbar = False,\n",
    "\n",
    "    ):\n",
    "\n",
    "    xvec = np.linspace(-max_alpha, max_alpha, npts)\n",
    "    CF_real, CF_imag = char_func_grid(state, xvec)\n",
    "\n",
    "    if fig is None:\n",
    "        fig = plt.figure(figsize=(6, 5))\n",
    "    if ax is None:\n",
    "        ax = fig.subplots()\n",
    "\n",
    "    if real:\n",
    "        im = ax.pcolormesh(xvec, xvec, (CF_real), cmap = 'bwr', vmin=vmin, vmax=vmax, shading='auto')\n",
    "        ax.set_aspect('equal')\n",
    "\n",
    "    else:\n",
    "        \n",
    "        im = ax.pcolormesh(xvec, xvec, (-CF_imag), cmap = 'bwr', vmin=vmin, vmax=vmax,shading='auto')\n",
    "        ax.set_aspect('equal')\n",
    "\n",
    "\n",
    "    if cbar:\n",
    "        fig.subplots_adjust(right=0.8, hspace=0.25, wspace=0.25)\n",
    "        # todo: ensure colorbar even with plot...\n",
    "        # todo: fix this colorbar\n",
    "\n",
    "        cbar_ax = fig.add_axes([0.85, 0.225, 0.025, 0.65])\n",
    "        ticks = np.linspace(-1, 1, 5)\n",
    "        fig.colorbar(im, cax=cbar_ax, ticks=ticks)"
   ]
  },
  {
   "cell_type": "code",
   "execution_count": 84,
   "metadata": {},
   "outputs": [],
   "source": [
    "# prepare everything\n",
    "N = 50\n",
    "a = destroy(N)\n",
    "rho_init = (coherent(N,2)-coherent(N,-2)).unit()\n",
    "T1 = 5\n",
    "T2 = np.inf\n",
    "t_list = [0.,  0.1, 0.2, 0.4, 0.8, 1.2 , 2.5 , 3.75, 5.  ]\n",
    "a_decay = np.sqrt(1/T1)*a\n",
    "a_dephasing = np.sqrt(1/T2) * (a * a.dag() + a.dag() * a)\n",
    "loss = [a_decay, a_dephasing]"
   ]
  },
  {
   "cell_type": "code",
   "execution_count": 85,
   "metadata": {},
   "outputs": [],
   "source": [
    "rhos = mesolve(qeye(N),rho_init, t_list, c_ops = loss, options=Options(nsteps=2000)).states"
   ]
  },
  {
   "cell_type": "code",
   "execution_count": 88,
   "metadata": {},
   "outputs": [
    {
     "data": {
      "image/png": "[encoded data removed]",
      "text/plain": [
       "<Figure size 2000x1000 with 9 Axes>"
      ]
     },
     "metadata": {},
     "output_type": "display_data"
    },
    {
     "data": {
      "text/plain": [
       "<Figure size 600x500 with 0 Axes>"
      ]
     },
     "metadata": {},
     "output_type": "display_data"
    },
    {
     "data": {
      "text/plain": [
       "<Figure size 600x500 with 0 Axes>"
      ]
     },
     "metadata": {},
     "output_type": "display_data"
    },
    {
     "data": {
      "text/plain": [
       "<Figure size 600x500 with 0 Axes>"
      ]
     },
     "metadata": {},
     "output_type": "display_data"
    },
    {
     "data": {
      "text/plain": [
       "<Figure size 600x500 with 0 Axes>"
      ]
     },
     "metadata": {},
     "output_type": "display_data"
    },
    {
     "data": {
      "text/plain": [
       "<Figure size 600x500 with 0 Axes>"
      ]
     },
     "metadata": {},
     "output_type": "display_data"
    },
    {
     "data": {
      "text/plain": [
       "<Figure size 600x500 with 0 Axes>"
      ]
     },
     "metadata": {},
     "output_type": "display_data"
    },
    {
     "data": {
      "text/plain": [
       "<Figure size 600x500 with 0 Axes>"
      ]
     },
     "metadata": {},
     "output_type": "display_data"
    },
    {
     "data": {
      "text/plain": [
       "<Figure size 600x500 with 0 Axes>"
      ]
     },
     "metadata": {},
     "output_type": "display_data"
    },
    {
     "data": {
      "text/plain": [
       "<Figure size 600x500 with 0 Axes>"
      ]
     },
     "metadata": {},
     "output_type": "display_data"
    }
   ],
   "source": [
    "fig, axs = plt.subplots(1,len(rhos), sharey='row', figsize = (20,10))\n",
    "for i, rho in enumerate(rhos):\n",
    "    rho_tensor = tensor(fock(2,0)*fock(2,0).dag(), rho)\n",
    "    plot_char(rho_tensor, ax = axs[i], max_alpha = 6)\n",
    "\n",
    "    axs[i].set_title(f\"t/T1:{np.round(t_list[i]/T1,2)}\")\n",
    "    \n",
    "    \n",
    "    "
   ]
  },
  {
   "cell_type": "code",
   "execution_count": null,
   "metadata": {},
   "outputs": [],
   "source": [
    "axs[i]"
   ]
  }
 ],
 "metadata": {
  "kernelspec": {
   "display_name": "Python 3.9.7 ('tcsim-vg60nFMD-py3.9')",
   "language": "python",
   "name": "python3"
  },
  "language_info": {
   "codemirror_mode": {
    "name": "ipython",
    "version": 3
   },
   "file_extension": ".py",
   "mimetype": "text/x-python",
   "name": "python",
   "nbconvert_exporter": "python",
   "pygments_lexer": "ipython3",
   "version": "3.9.7"
  },
  "orig_nbformat": 4,
  "vscode": {
   "interpreter": {
    "hash": "59cb12dd9ecbf80eb357d6f524219154e96c4ff157a1ca807434a2b41595d91f"
   }
  }
 },
 "nbformat": 4,
 "nbformat_minor": 2
}
